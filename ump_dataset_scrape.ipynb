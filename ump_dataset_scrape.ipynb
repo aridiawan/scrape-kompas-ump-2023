{
 "cells": [
  {
   "cell_type": "code",
   "execution_count": null,
   "metadata": {},
   "outputs": [],
   "source": [
    "# import the library\n",
    "import requests\n",
    "from bs4 import BeautifulSoup\n",
    "import pandas as pd"
   ]
  },
  {
   "cell_type": "code",
   "execution_count": null,
   "metadata": {},
   "outputs": [],
   "source": [
    "# connecting to the page\n",
    "page = requests.get('https://www.kompas.com/tren/read/2022/11/30/083000165/daftar-lengkap-ump-2023-di-34-provinsi-seluruh-indonesia?page=all')\n",
    "soup = BeautifulSoup(page.content, 'html.parser')"
   ]
  },
  {
   "cell_type": "code",
   "execution_count": null,
   "metadata": {},
   "outputs": [],
   "source": [
    "# checking the respone status\n",
    "# check, means behind numbers: https://developer.mozilla.org/en-US/docs/Web/HTTP/Status\n",
    "print(page)"
   ]
  },
  {
   "attachments": {},
   "cell_type": "markdown",
   "metadata": {},
   "source": [
    "A. SCRAPE PROVINCE NAME"
   ]
  },
  {
   "cell_type": "code",
   "execution_count": null,
   "metadata": {},
   "outputs": [],
   "source": [
    "lists = soup.find_all(\"p\")"
   ]
  },
  {
   "cell_type": "code",
   "execution_count": null,
   "metadata": {},
   "outputs": [],
   "source": [
    "provinces = []\n",
    "\n",
    "for list in lists:\n",
    "    try :\n",
    "        province = list.find(\"strong\").text\n",
    "    except :\n",
    "        pass\n",
    "    provinces.append(province)"
   ]
  },
  {
   "cell_type": "code",
   "execution_count": null,
   "metadata": {},
   "outputs": [],
   "source": [
    "# make province dataframe\n",
    "df_provinces = pd.DataFrame(provinces).drop_duplicates()\n",
    "df_provinces.columns = ['provinsi']"
   ]
  },
  {
   "cell_type": "code",
   "execution_count": null,
   "metadata": {},
   "outputs": [],
   "source": [
    "# filter row with provinsi name only (take row that contain '.' in the end of number list)\n",
    "df_provinces[\"number\"] = df_provinces['provinsi'].apply(lambda x: x.split(' ')[0].endswith('.'))\n",
    "df_provinces = df_provinces[df_provinces[\"number\"] == True]\n",
    "\n",
    "# cleaning the provinsi name\n",
    "df_provinces['provinsi2'] = df_provinces['provinsi'].apply(lambda x: x.replace(' (NAD)','').split('. ')[1])\n",
    "df_provinces"
   ]
  },
  {
   "attachments": {},
   "cell_type": "markdown",
   "metadata": {},
   "source": [
    "B. SCRAPE UMP 2022"
   ]
  },
  {
   "cell_type": "code",
   "execution_count": null,
   "metadata": {},
   "outputs": [],
   "source": [
    "lists2 = soup.find_all(\"ul\")\n",
    "print(lists2)"
   ]
  },
  {
   "cell_type": "code",
   "execution_count": null,
   "metadata": {},
   "outputs": [],
   "source": [
    "l_ump2022 = []\n",
    "for list2 in lists2:\n",
    "    ump2022 = list2.find(\"li\").text\n",
    "    l_ump2022.append(ump2022)\n",
    "print(l_ump2022)"
   ]
  },
  {
   "cell_type": "code",
   "execution_count": null,
   "metadata": {},
   "outputs": [],
   "source": [
    "df_ump2022 = pd.DataFrame(l_ump2022)\n",
    "df_ump2022.columns = ['ump_2022']"
   ]
  },
  {
   "cell_type": "code",
   "execution_count": null,
   "metadata": {},
   "outputs": [],
   "source": [
    "# filter row with ump 2022 only (string in ump column contain 'UMP 2022')\n",
    "df_ump2022[\"remark_ump\"] = df_ump2022['ump_2022'].str.contains('UMP 2022')\n",
    "df_ump2022 = df_ump2022[df_ump2022[\"remark_ump\"] == True]\n",
    "df_ump2022"
   ]
  },
  {
   "cell_type": "code",
   "execution_count": null,
   "metadata": {},
   "outputs": [],
   "source": [
    "df_ump2022[\"ump_2022_adj\"] = df_ump2022[\"ump_2022\"].apply(lambda x: x.split(\"Rp\")[1].strip().replace(\".\",\"\"))\n",
    "df_ump2022[\"ump_2022_adj\"] = df_ump2022[\"ump_2022_adj\"].astype(int)\n",
    "df_ump2022[\"ump_2022_adj\"]"
   ]
  },
  {
   "attachments": {},
   "cell_type": "markdown",
   "metadata": {},
   "source": [
    "C. SCRAPE UMP 2023"
   ]
  },
  {
   "cell_type": "code",
   "execution_count": null,
   "metadata": {},
   "outputs": [],
   "source": [
    "lists3 = soup.find_all(\"ul\")\n",
    "print(lists3)"
   ]
  },
  {
   "cell_type": "code",
   "execution_count": null,
   "metadata": {},
   "outputs": [],
   "source": [
    "l_ump2023 = []\n",
    "for list3 in lists3:\n",
    "    ump2023 = list3.find_all(\"li\")[-1].get_text()\n",
    "    l_ump2023.append(ump2023)"
   ]
  },
  {
   "cell_type": "code",
   "execution_count": null,
   "metadata": {},
   "outputs": [],
   "source": [
    "df_ump2023 = pd.DataFrame(l_ump2023)\n",
    "df_ump2023.columns = ['ump_2023']"
   ]
  },
  {
   "cell_type": "code",
   "execution_count": null,
   "metadata": {},
   "outputs": [],
   "source": [
    "# filter row with ump 2023 only (string in ump column contain 'UMP 2023')\n",
    "df_ump2023[\"remark_ump\"] = df_ump2023['ump_2023'].str.contains('UMP 2023: Rp')\n",
    "df_ump2023 = df_ump2023[df_ump2023[\"remark_ump\"] == True]\n",
    "\n",
    "df_ump2023['ump_2023_adj'] = df_ump2023['ump_2023'].apply(lambda x: x.split(\"(\")[0].strip().split(\" \")[-1].replace(\"Rp\",\"\").split(\",\")[0].replace(\".\",\"\"))\n",
    "df_ump2023['ump_2023_adj'] = df_ump2023['ump_2023_adj'].astype(int)\n",
    "df_ump2023['ump_2023_adj']"
   ]
  },
  {
   "attachments": {},
   "cell_type": "markdown",
   "metadata": {},
   "source": [
    "D. COMPILE DATA FRAME"
   ]
  },
  {
   "cell_type": "code",
   "execution_count": null,
   "metadata": {},
   "outputs": [],
   "source": [
    "prv_series = df_provinces['provinsi2'].squeeze().reset_index().drop(columns=\"index\")\n",
    "ump2022_series = df_ump2022['ump_2022_adj'].squeeze().reset_index().drop(columns=\"index\")\n",
    "ump2023_series = df_ump2023['ump_2023_adj'].squeeze().reset_index().drop(columns=\"index\")\n",
    "\n",
    "df_ump_indonesia = pd.DataFrame({\"provinsi\": prv_series.iloc[:,-1], \n",
    "                                    \"ump_2022\": ump2022_series.iloc[:,-1],\n",
    "                                    \"ump_2023\": ump2023_series.iloc[:,-1]})\n",
    "\n",
    "df_ump_indonesia[\"rp_kenaikan\"] = df_ump_indonesia[\"ump_2023\"]-df_ump_indonesia[\"ump_2022\"]\n",
    "df_ump_indonesia[\"%_kenaikan\"] = df_ump_indonesia[\"ump_2023\"]/df_ump_indonesia[\"ump_2022\"]\n",
    "df_ump_indonesia"
   ]
  },
  {
   "attachments": {},
   "cell_type": "markdown",
   "metadata": {},
   "source": [
    "E. SAVE DATAFRAME TO CSV"
   ]
  },
  {
   "cell_type": "code",
   "execution_count": 29,
   "metadata": {},
   "outputs": [],
   "source": [
    "df_ump_indonesia.to_csv('Data Kenaikan UMP Indoensia 2023.csv', index=False)"
   ]
  }
 ],
 "metadata": {
  "kernelspec": {
   "display_name": "Python 3.10.6 64-bit",
   "language": "python",
   "name": "python3"
  },
  "language_info": {
   "codemirror_mode": {
    "name": "ipython",
    "version": 3
   },
   "file_extension": ".py",
   "mimetype": "text/x-python",
   "name": "python",
   "nbconvert_exporter": "python",
   "pygments_lexer": "ipython3",
   "version": "3.10.6 (tags/v3.10.6:9c7b4bd, Aug  1 2022, 21:53:49) [MSC v.1932 64 bit (AMD64)]"
  },
  "orig_nbformat": 4,
  "vscode": {
   "interpreter": {
    "hash": "890673261c5b3f1734312698c593fe0d86e93237b933d14949f8ffe270c510be"
   }
  }
 },
 "nbformat": 4,
 "nbformat_minor": 2
}
